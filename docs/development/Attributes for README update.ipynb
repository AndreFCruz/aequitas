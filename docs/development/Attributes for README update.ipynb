{
 "cells": [
  {
   "cell_type": "code",
   "execution_count": 1,
   "metadata": {},
   "outputs": [
    {
     "name": "stderr",
     "output_type": "stream",
     "text": [
      "/Users/lorenh/Documents/DSaPP/.aequitas/lib/python3.6/importlib/_bootstrap.py:219: RuntimeWarning: numpy.dtype size changed, may indicate binary incompatibility. Expected 96, got 88\n",
      "  return f(*args, **kwds)\n"
     ]
    }
   ],
   "source": [
    "import pandas as pd\n",
    "import seaborn as sns\n",
    "from aequitas.group import Group\n",
    "from aequitas.bias import Bias\n",
    "from aequitas.fairness import Fairness\n",
    "from aequitas.plotting import Plot\n"
   ]
  },
  {
   "cell_type": "code",
   "execution_count": 2,
   "metadata": {},
   "outputs": [],
   "source": [
    "g = Group()\n",
    "b = Bias()\n",
    "f = Fairness()\n",
    "p = Plot()"
   ]
  },
  {
   "cell_type": "code",
   "execution_count": 4,
   "metadata": {},
   "outputs": [
    {
     "data": {
      "text/plain": [
       "dict_keys(['label_neg_count', 'label_pos_count', 'group_functions'])"
      ]
     },
     "execution_count": 4,
     "metadata": {},
     "output_type": "execute_result"
    }
   ],
   "source": [
    "g.__dict__.keys()"
   ]
  },
  {
   "cell_type": "code",
   "execution_count": 8,
   "metadata": {},
   "outputs": [
    {
     "data": {
      "text/plain": [
       "['__class__',\n",
       " '__delattr__',\n",
       " '__dict__',\n",
       " '__dir__',\n",
       " '__doc__',\n",
       " '__eq__',\n",
       " '__format__',\n",
       " '__ge__',\n",
       " '__getattribute__',\n",
       " '__gt__',\n",
       " '__hash__',\n",
       " '__init__',\n",
       " '__init_subclass__',\n",
       " '__le__',\n",
       " '__lt__',\n",
       " '__module__',\n",
       " '__ne__',\n",
       " '__new__',\n",
       " '__reduce__',\n",
       " '__reduce_ex__',\n",
       " '__repr__',\n",
       " '__setattr__',\n",
       " '__sizeof__',\n",
       " '__str__',\n",
       " '__subclasshook__',\n",
       " '__weakref__',\n",
       " 'get_crosstabs',\n",
       " 'get_group_functions',\n",
       " 'group_functions',\n",
       " 'label_neg_count',\n",
       " 'label_pos_count',\n",
       " 'list_absolute_metrics']"
      ]
     },
     "execution_count": 8,
     "metadata": {},
     "output_type": "execute_result"
    }
   ],
   "source": [
    "[i for i in dir(g) if not callable(i)]"
   ]
  },
  {
   "cell_type": "code",
   "execution_count": 9,
   "metadata": {},
   "outputs": [
    {
     "data": {
      "text/plain": [
       "['__class__',\n",
       " '__delattr__',\n",
       " '__dict__',\n",
       " '__dir__',\n",
       " '__doc__',\n",
       " '__eq__',\n",
       " '__format__',\n",
       " '__ge__',\n",
       " '__getattribute__',\n",
       " '__gt__',\n",
       " '__hash__',\n",
       " '__init__',\n",
       " '__init_subclass__',\n",
       " '__le__',\n",
       " '__lt__',\n",
       " '__module__',\n",
       " '__ne__',\n",
       " '__new__',\n",
       " '__reduce__',\n",
       " '__reduce_ex__',\n",
       " '__repr__',\n",
       " '__setattr__',\n",
       " '__sizeof__',\n",
       " '__str__',\n",
       " '__subclasshook__',\n",
       " '__weakref__',\n",
       " 'all_group_metrics',\n",
       " 'calculate_significance',\n",
       " 'check_alpha',\n",
       " 'check_equal_variance',\n",
       " 'default_key_columns',\n",
       " 'fill_divbyzero',\n",
       " 'get_disparity_major_group',\n",
       " 'get_disparity_min_metric',\n",
       " 'get_disparity_predefined_groups',\n",
       " 'get_measure_sample',\n",
       " 'get_statistical_significance',\n",
       " 'input_group_metrics',\n",
       " 'key_columns',\n",
       " 'list_absolute_metrics',\n",
       " 'list_disparities',\n",
       " 'list_significance',\n",
       " 'non_attr_cols',\n",
       " 'significance_cols',\n",
       " 'significance_measures',\n",
       " 'verify_ref_group_loc',\n",
       " 'verify_ref_groups_dict_len']"
      ]
     },
     "execution_count": 9,
     "metadata": {},
     "output_type": "execute_result"
    }
   ],
   "source": [
    "[i for i in dir(b) if not callable(i)]"
   ]
  },
  {
   "cell_type": "code",
   "execution_count": 10,
   "metadata": {},
   "outputs": [
    {
     "data": {
      "text/plain": [
       "['__class__',\n",
       " '__delattr__',\n",
       " '__dict__',\n",
       " '__dir__',\n",
       " '__doc__',\n",
       " '__eq__',\n",
       " '__format__',\n",
       " '__ge__',\n",
       " '__getattribute__',\n",
       " '__gt__',\n",
       " '__hash__',\n",
       " '__init__',\n",
       " '__init_subclass__',\n",
       " '__le__',\n",
       " '__lt__',\n",
       " '__module__',\n",
       " '__ne__',\n",
       " '__new__',\n",
       " '__reduce__',\n",
       " '__reduce_ex__',\n",
       " '__repr__',\n",
       " '__setattr__',\n",
       " '__sizeof__',\n",
       " '__str__',\n",
       " '__subclasshook__',\n",
       " '__weakref__',\n",
       " 'fair_eval',\n",
       " 'fair_measures_depend',\n",
       " 'fair_measures_supported',\n",
       " 'fill_groupby_attribute_fairness',\n",
       " 'get_fairness_measures_supported',\n",
       " 'get_group_attribute_fairness',\n",
       " 'get_group_value_fairness',\n",
       " 'get_overall_fairness',\n",
       " 'high_level_fairness_depend',\n",
       " 'high_level_pair_eval',\n",
       " 'high_level_single_eval',\n",
       " 'list_parities',\n",
       " 'tau',\n",
       " 'type_parity_depend']"
      ]
     },
     "execution_count": 10,
     "metadata": {},
     "output_type": "execute_result"
    }
   ],
   "source": [
    "[i for i in dir(f) if not callable(i)]"
   ]
  },
  {
   "cell_type": "code",
   "execution_count": 11,
   "metadata": {},
   "outputs": [
    {
     "data": {
      "text/plain": [
       "['__class__',\n",
       " '__delattr__',\n",
       " '__dict__',\n",
       " '__dir__',\n",
       " '__doc__',\n",
       " '__eq__',\n",
       " '__format__',\n",
       " '__ge__',\n",
       " '__getattribute__',\n",
       " '__gt__',\n",
       " '__hash__',\n",
       " '__init__',\n",
       " '__init_subclass__',\n",
       " '__le__',\n",
       " '__lt__',\n",
       " '__module__',\n",
       " '__ne__',\n",
       " '__new__',\n",
       " '__reduce__',\n",
       " '__reduce_ex__',\n",
       " '__repr__',\n",
       " '__setattr__',\n",
       " '__sizeof__',\n",
       " '__str__',\n",
       " '__subclasshook__',\n",
       " '__weakref__',\n",
       " '_assemble_ref_groups',\n",
       " '_brightness_threshold',\n",
       " '_check_brightness',\n",
       " '_locate_ref_group_indices',\n",
       " '_metric_parity_mapping',\n",
       " '_nearest_quartile',\n",
       " '_plot_multiple',\n",
       " '_plot_multiple_treemaps',\n",
       " '_significance_disparity_mapping',\n",
       " '_truncate_colormap',\n",
       " 'default_absolute_metrics',\n",
       " 'default_disparities',\n",
       " 'key_disparities',\n",
       " 'key_metrics',\n",
       " 'plot_disparity',\n",
       " 'plot_disparity_all',\n",
       " 'plot_fairness_disparity',\n",
       " 'plot_fairness_disparity_all',\n",
       " 'plot_fairness_group',\n",
       " 'plot_fairness_group_all',\n",
       " 'plot_group_metric',\n",
       " 'plot_group_metric_all']"
      ]
     },
     "execution_count": 11,
     "metadata": {},
     "output_type": "execute_result"
    }
   ],
   "source": [
    "[i for i in dir(p) if not callable(i)]"
   ]
  }
 ],
 "metadata": {
  "kernelspec": {
   "display_name": ".aequitas",
   "language": "python",
   "name": ".aequitas"
  },
  "language_info": {
   "codemirror_mode": {
    "name": "ipython",
    "version": 3
   },
   "file_extension": ".py",
   "mimetype": "text/x-python",
   "name": "python",
   "nbconvert_exporter": "python",
   "pygments_lexer": "ipython3",
   "version": "3.6.5"
  }
 },
 "nbformat": 4,
 "nbformat_minor": 2
}
